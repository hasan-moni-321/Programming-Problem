{
 "cells": [
  {
   "cell_type": "markdown",
   "metadata": {},
   "source": [
    "# 1st Problem"
   ]
  },
  {
   "cell_type": "code",
   "execution_count": 21,
   "metadata": {},
   "outputs": [
    {
     "name": "stdout",
     "output_type": "stream",
     "text": [
      "Enter the total Length :3\n",
      "45 67 8\n"
     ]
    }
   ],
   "source": [
    "n = int(input('Enter the total Length :'))\n",
    "mul_num = [int(x) for x in input().split()]\n",
    "\n",
    "even_odd = ['even' if i%2==0  else 'odd' for i in mul_num]\n",
    "even_odd"
   ]
  },
  {
   "cell_type": "code",
   "execution_count": null,
   "metadata": {},
   "outputs": [],
   "source": []
  },
  {
   "cell_type": "code",
   "execution_count": null,
   "metadata": {},
   "outputs": [],
   "source": []
  },
  {
   "cell_type": "markdown",
   "metadata": {},
   "source": [
    "# 2nd Problem"
   ]
  },
  {
   "cell_type": "code",
   "execution_count": 32,
   "metadata": {},
   "outputs": [
    {
     "name": "stdout",
     "output_type": "stream",
     "text": [
      "Enter a number between 1 to 100 :3\n",
      "Take non negative input :45 -7 -0\n"
     ]
    }
   ],
   "source": [
    "n = int(input('Enter a number between 1 to 100 :'))\n",
    "mul_num = [abs(int(x)) for x in input('Take non negative input :').split()]\n",
    "\n",
    "even_odd = ['even' if i%2==0 else 'odd' for i in mul_num]\n",
    "even_odd"
   ]
  },
  {
   "cell_type": "code",
   "execution_count": null,
   "metadata": {},
   "outputs": [],
   "source": []
  },
  {
   "cell_type": "code",
   "execution_count": null,
   "metadata": {},
   "outputs": [],
   "source": []
  },
  {
   "cell_type": "markdown",
   "metadata": {},
   "source": [
    "# 3rd Problem"
   ]
  },
  {
   "cell_type": "code",
   "execution_count": 7,
   "metadata": {},
   "outputs": [
    {
     "name": "stdout",
     "output_type": "stream",
     "text": [
      "1000 \t999 \t998 \t997 \t996 \t\n",
      "995 \t994 \t993 \t992 \t991 \t\n",
      "990 \t989 \t988 \t987 \t986 \t\n",
      "985 \t984 \t983 \t982 \t981 \t\n",
      "980 \t979 \t978 \t977 \t976 \t\n",
      "975 \t974 \t973 \t972 \t971 \t\n",
      "970 \t969 \t968 \t967 \t966 \t\n",
      "965 \t964 \t963 \t962 \t961 \t\n",
      "960 \t959 \t958 \t957 \t956 \t\n",
      "955 \t954 \t953 \t952 \t951 \t\n",
      "950 \t949 \t948 \t947 \t946 \t\n",
      "945 \t944 \t943 \t942 \t941 \t\n",
      "940 \t939 \t938 \t937 \t936 \t\n",
      "935 \t934 \t933 \t932 \t931 \t\n",
      "930 \t929 \t928 \t927 \t926 \t\n",
      "925 \t924 \t923 \t922 \t921 \t\n",
      "920 \t919 \t918 \t917 \t916 \t\n",
      "915 \t914 \t913 \t912 \t911 \t\n",
      "910 \t909 \t908 \t907 \t906 \t\n",
      "905 \t904 \t903 \t902 \t901 \t\n",
      "900 \t899 \t898 \t897 \t896 \t\n",
      "895 \t894 \t893 \t892 \t891 \t\n",
      "890 \t889 \t888 \t887 \t886 \t\n",
      "885 \t884 \t883 \t882 \t881 \t\n",
      "880 \t879 \t878 \t877 \t876 \t\n",
      "875 \t874 \t873 \t872 \t871 \t\n",
      "870 \t869 \t868 \t867 \t866 \t\n",
      "865 \t864 \t863 \t862 \t861 \t\n",
      "860 \t859 \t858 \t857 \t856 \t\n",
      "855 \t854 \t853 \t852 \t851 \t\n",
      "850 \t849 \t848 \t847 \t846 \t\n",
      "845 \t844 \t843 \t842 \t841 \t\n",
      "840 \t839 \t838 \t837 \t836 \t\n",
      "835 \t834 \t833 \t832 \t831 \t\n",
      "830 \t829 \t828 \t827 \t826 \t\n",
      "825 \t824 \t823 \t822 \t821 \t\n",
      "820 \t819 \t818 \t817 \t816 \t\n",
      "815 \t814 \t813 \t812 \t811 \t\n",
      "810 \t809 \t808 \t807 \t806 \t\n",
      "805 \t804 \t803 \t802 \t801 \t\n",
      "800 \t799 \t798 \t797 \t796 \t\n",
      "795 \t794 \t793 \t792 \t791 \t\n",
      "790 \t789 \t788 \t787 \t786 \t\n",
      "785 \t784 \t783 \t782 \t781 \t\n",
      "780 \t779 \t778 \t777 \t776 \t\n",
      "775 \t774 \t773 \t772 \t771 \t\n",
      "770 \t769 \t768 \t767 \t766 \t\n",
      "765 \t764 \t763 \t762 \t761 \t\n",
      "760 \t759 \t758 \t757 \t756 \t\n",
      "755 \t754 \t753 \t752 \t751 \t\n",
      "750 \t749 \t748 \t747 \t746 \t\n",
      "745 \t744 \t743 \t742 \t741 \t\n",
      "740 \t739 \t738 \t737 \t736 \t\n",
      "735 \t734 \t733 \t732 \t731 \t\n",
      "730 \t729 \t728 \t727 \t726 \t\n",
      "725 \t724 \t723 \t722 \t721 \t\n",
      "720 \t719 \t718 \t717 \t716 \t\n",
      "715 \t714 \t713 \t712 \t711 \t\n",
      "710 \t709 \t708 \t707 \t706 \t\n",
      "705 \t704 \t703 \t702 \t701 \t\n",
      "700 \t699 \t698 \t697 \t696 \t\n",
      "695 \t694 \t693 \t692 \t691 \t\n",
      "690 \t689 \t688 \t687 \t686 \t\n",
      "685 \t684 \t683 \t682 \t681 \t\n",
      "680 \t679 \t678 \t677 \t676 \t\n",
      "675 \t674 \t673 \t672 \t671 \t\n",
      "670 \t669 \t668 \t667 \t666 \t\n",
      "665 \t664 \t663 \t662 \t661 \t\n",
      "660 \t659 \t658 \t657 \t656 \t\n",
      "655 \t654 \t653 \t652 \t651 \t\n",
      "650 \t649 \t648 \t647 \t646 \t\n",
      "645 \t644 \t643 \t642 \t641 \t\n",
      "640 \t639 \t638 \t637 \t636 \t\n",
      "635 \t634 \t633 \t632 \t631 \t\n",
      "630 \t629 \t628 \t627 \t626 \t\n",
      "625 \t624 \t623 \t622 \t621 \t\n",
      "620 \t619 \t618 \t617 \t616 \t\n",
      "615 \t614 \t613 \t612 \t611 \t\n",
      "610 \t609 \t608 \t607 \t606 \t\n",
      "605 \t604 \t603 \t602 \t601 \t\n",
      "600 \t599 \t598 \t597 \t596 \t\n",
      "595 \t594 \t593 \t592 \t591 \t\n",
      "590 \t589 \t588 \t587 \t586 \t\n",
      "585 \t584 \t583 \t582 \t581 \t\n",
      "580 \t579 \t578 \t577 \t576 \t\n",
      "575 \t574 \t573 \t572 \t571 \t\n",
      "570 \t569 \t568 \t567 \t566 \t\n",
      "565 \t564 \t563 \t562 \t561 \t\n",
      "560 \t559 \t558 \t557 \t556 \t\n",
      "555 \t554 \t553 \t552 \t551 \t\n",
      "550 \t549 \t548 \t547 \t546 \t\n",
      "545 \t544 \t543 \t542 \t541 \t\n",
      "540 \t539 \t538 \t537 \t536 \t\n",
      "535 \t534 \t533 \t532 \t531 \t\n",
      "530 \t529 \t528 \t527 \t526 \t\n",
      "525 \t524 \t523 \t522 \t521 \t\n",
      "520 \t519 \t518 \t517 \t516 \t\n",
      "515 \t514 \t513 \t512 \t511 \t\n",
      "510 \t509 \t508 \t507 \t506 \t\n",
      "505 \t504 \t503 \t502 \t501 \t\n",
      "500 \t499 \t498 \t497 \t496 \t\n",
      "495 \t494 \t493 \t492 \t491 \t\n",
      "490 \t489 \t488 \t487 \t486 \t\n",
      "485 \t484 \t483 \t482 \t481 \t\n",
      "480 \t479 \t478 \t477 \t476 \t\n",
      "475 \t474 \t473 \t472 \t471 \t\n",
      "470 \t469 \t468 \t467 \t466 \t\n",
      "465 \t464 \t463 \t462 \t461 \t\n",
      "460 \t459 \t458 \t457 \t456 \t\n",
      "455 \t454 \t453 \t452 \t451 \t\n",
      "450 \t449 \t448 \t447 \t446 \t\n",
      "445 \t444 \t443 \t442 \t441 \t\n",
      "440 \t439 \t438 \t437 \t436 \t\n",
      "435 \t434 \t433 \t432 \t431 \t\n",
      "430 \t429 \t428 \t427 \t426 \t\n",
      "425 \t424 \t423 \t422 \t421 \t\n",
      "420 \t419 \t418 \t417 \t416 \t\n",
      "415 \t414 \t413 \t412 \t411 \t\n",
      "410 \t409 \t408 \t407 \t406 \t\n",
      "405 \t404 \t403 \t402 \t401 \t\n",
      "400 \t399 \t398 \t397 \t396 \t\n",
      "395 \t394 \t393 \t392 \t391 \t\n",
      "390 \t389 \t388 \t387 \t386 \t\n",
      "385 \t384 \t383 \t382 \t381 \t\n",
      "380 \t379 \t378 \t377 \t376 \t\n",
      "375 \t374 \t373 \t372 \t371 \t\n",
      "370 \t369 \t368 \t367 \t366 \t\n",
      "365 \t364 \t363 \t362 \t361 \t\n",
      "360 \t359 \t358 \t357 \t356 \t\n",
      "355 \t354 \t353 \t352 \t351 \t\n",
      "350 \t349 \t348 \t347 \t346 \t\n",
      "345 \t344 \t343 \t342 \t341 \t\n",
      "340 \t339 \t338 \t337 \t336 \t\n",
      "335 \t334 \t333 \t332 \t331 \t\n",
      "330 \t329 \t328 \t327 \t326 \t\n",
      "325 \t324 \t323 \t322 \t321 \t\n",
      "320 \t319 \t318 \t317 \t316 \t\n",
      "315 \t314 \t313 \t312 \t311 \t\n",
      "310 \t309 \t308 \t307 \t306 \t\n",
      "305 \t304 \t303 \t302 \t301 \t\n",
      "300 \t299 \t298 \t297 \t296 \t\n",
      "295 \t294 \t293 \t292 \t291 \t\n",
      "290 \t289 \t288 \t287 \t286 \t\n",
      "285 \t284 \t283 \t282 \t281 \t\n",
      "280 \t279 \t278 \t277 \t276 \t\n",
      "275 \t274 \t273 \t272 \t271 \t\n",
      "270 \t269 \t268 \t267 \t266 \t\n",
      "265 \t264 \t263 \t262 \t261 \t\n",
      "260 \t259 \t258 \t257 \t256 \t\n",
      "255 \t254 \t253 \t252 \t251 \t\n",
      "250 \t249 \t248 \t247 \t246 \t\n",
      "245 \t244 \t243 \t242 \t241 \t\n",
      "240 \t239 \t238 \t237 \t236 \t\n",
      "235 \t234 \t233 \t232 \t231 \t\n",
      "230 \t229 \t228 \t227 \t226 \t\n",
      "225 \t224 \t223 \t222 \t221 \t\n",
      "220 \t219 \t218 \t217 \t216 \t\n",
      "215 \t214 \t213 \t212 \t211 \t\n",
      "210 \t209 \t208 \t207 \t206 \t\n",
      "205 \t204 \t203 \t202 \t201 \t\n",
      "200 \t199 \t198 \t197 \t196 \t\n",
      "195 \t194 \t193 \t192 \t191 \t\n",
      "190 \t189 \t188 \t187 \t186 \t\n",
      "185 \t184 \t183 \t182 \t181 \t\n",
      "180 \t179 \t178 \t177 \t176 \t\n",
      "175 \t174 \t173 \t172 \t171 \t\n",
      "170 \t169 \t168 \t167 \t166 \t\n",
      "165 \t164 \t163 \t162 \t161 \t\n",
      "160 \t159 \t158 \t157 \t156 \t\n",
      "155 \t154 \t153 \t152 \t151 \t\n",
      "150 \t149 \t148 \t147 \t146 \t\n",
      "145 \t144 \t143 \t142 \t141 \t\n",
      "140 \t139 \t138 \t137 \t136 \t\n",
      "135 \t134 \t133 \t132 \t131 \t\n",
      "130 \t129 \t128 \t127 \t126 \t\n",
      "125 \t124 \t123 \t122 \t121 \t\n",
      "120 \t119 \t118 \t117 \t116 \t\n",
      "115 \t114 \t113 \t112 \t111 \t\n",
      "110 \t109 \t108 \t107 \t106 \t\n",
      "105 \t104 \t103 \t102 \t101 \t\n",
      "100 \t99 \t98 \t97 \t96 \t\n",
      "95 \t94 \t93 \t92 \t91 \t\n",
      "90 \t89 \t88 \t87 \t86 \t\n",
      "85 \t84 \t83 \t82 \t81 \t\n",
      "80 \t79 \t78 \t77 \t76 \t\n",
      "75 \t74 \t73 \t72 \t71 \t\n",
      "70 \t69 \t68 \t67 \t66 \t\n",
      "65 \t64 \t63 \t62 \t61 \t\n",
      "60 \t59 \t58 \t57 \t56 \t\n",
      "55 \t54 \t53 \t52 \t51 \t\n",
      "50 \t49 \t48 \t47 \t46 \t\n",
      "45 \t44 \t43 \t42 \t41 \t\n",
      "40 \t39 \t38 \t37 \t36 \t\n",
      "35 \t34 \t33 \t32 \t31 \t\n",
      "30 \t29 \t28 \t27 \t26 \t\n",
      "25 \t24 \t23 \t22 \t21 \t\n",
      "20 \t19 \t18 \t17 \t16 \t\n",
      "15 \t14 \t13 \t12 \t11 \t\n",
      "10 \t9 \t8 \t7 \t6 \t\n",
      "5 \t4 \t3 \t2 \t1 \t"
     ]
    }
   ],
   "source": [
    "from random import sample\n",
    "s = sample(range(1, 1001), 1000)\n",
    "s_sort = sorted(s, reverse=True)\n",
    "\n",
    "for i in s_sort:\n",
    "    if i%5==0 and i!=1000:\n",
    "        print()\n",
    "        \n",
    "    print(i, '\\t', end='')"
   ]
  },
  {
   "cell_type": "code",
   "execution_count": null,
   "metadata": {},
   "outputs": [],
   "source": []
  },
  {
   "cell_type": "markdown",
   "metadata": {},
   "source": [
    "# 4th Problem"
   ]
  },
  {
   "cell_type": "code",
   "execution_count": 29,
   "metadata": {},
   "outputs": [
    {
     "name": "stdout",
     "output_type": "stream",
     "text": [
      "3\n",
      "45 9 12\n",
      "[45, 9, 12]\n"
     ]
    }
   ],
   "source": [
    "n = int(input())\n",
    "numbers = [abs(int(x)) for x in input().split()]\n",
    "\n",
    "print(numbers)       "
   ]
  },
  {
   "cell_type": "code",
   "execution_count": 30,
   "metadata": {},
   "outputs": [
    {
     "name": "stdout",
     "output_type": "stream",
     "text": [
      "Case 0 : [1, 3, 5, 9, 15, 45]\n",
      "Case 1 : [1, 3, 9]\n",
      "Case 2 : [1, 2, 3, 4, 6, 12]\n"
     ]
    }
   ],
   "source": [
    "for ind, nu in enumerate(numbers):\n",
    "    l = []\n",
    "    i=1\n",
    "    \n",
    "    while i <= nu:\n",
    "        if nu%i == 0:\n",
    "            #print('case {ind+1}:', i, end='') \n",
    "            l.append(i)\n",
    "        i += 1\n",
    "    print(\"Case\",ind,\":\", l)\n",
    "    del(l)"
   ]
  },
  {
   "cell_type": "code",
   "execution_count": null,
   "metadata": {},
   "outputs": [],
   "source": []
  },
  {
   "cell_type": "code",
   "execution_count": null,
   "metadata": {},
   "outputs": [],
   "source": []
  },
  {
   "cell_type": "markdown",
   "metadata": {},
   "source": [
    "# 5th Problem"
   ]
  },
  {
   "cell_type": "code",
   "execution_count": 34,
   "metadata": {},
   "outputs": [
    {
     "name": "stdout",
     "output_type": "stream",
     "text": [
      "3\n",
      "5 5 7\n",
      "[5, 5, 7]\n"
     ]
    }
   ],
   "source": [
    "n = int(input())\n",
    "number = [abs(int(x)) for x in input().split()]\n",
    "print(number)"
   ]
  },
  {
   "cell_type": "code",
   "execution_count": 37,
   "metadata": {},
   "outputs": [
    {
     "name": "stdout",
     "output_type": "stream",
     "text": [
      "*****\n",
      "*****\n",
      "*****\n",
      "*****\n",
      "*****\n",
      "\n",
      "*****\n",
      "*****\n",
      "*****\n",
      "*****\n",
      "*****\n",
      "\n",
      "*******\n",
      "*******\n",
      "*******\n",
      "*******\n",
      "*******\n",
      "*******\n",
      "*******\n",
      "\n"
     ]
    }
   ],
   "source": [
    "for num in number:\n",
    "    for i in range(num):\n",
    "        for j in range(num):\n",
    "            print('*', end='')\n",
    "        print()\n",
    "    print()"
   ]
  },
  {
   "cell_type": "code",
   "execution_count": null,
   "metadata": {},
   "outputs": [],
   "source": []
  },
  {
   "cell_type": "code",
   "execution_count": null,
   "metadata": {},
   "outputs": [],
   "source": []
  },
  {
   "cell_type": "markdown",
   "metadata": {},
   "source": [
    "# 6th Problem"
   ]
  },
  {
   "cell_type": "code",
   "execution_count": 38,
   "metadata": {},
   "outputs": [
    {
     "name": "stdout",
     "output_type": "stream",
     "text": [
      "5\n",
      "345 768 790 345 234\n"
     ]
    },
    {
     "data": {
      "text/plain": [
       "[345, 768, 790, 345, 234]"
      ]
     },
     "execution_count": 38,
     "metadata": {},
     "output_type": "execute_result"
    }
   ],
   "source": [
    "n = int(input())\n",
    "numbers = [abs(int(x)) for x in input().split()]\n",
    "numbers"
   ]
  },
  {
   "cell_type": "code",
   "execution_count": 42,
   "metadata": {},
   "outputs": [
    {
     "name": "stdout",
     "output_type": "stream",
     "text": [
      "Sum =  8\n",
      "Sum =  15\n",
      "Sum =  7\n",
      "Sum =  8\n",
      "Sum =  6\n"
     ]
    }
   ],
   "source": [
    "def first_digit(n):\n",
    "    while n > 10:\n",
    "        n = n/10\n",
    "    return int(n)\n",
    "\n",
    "def last_digit(n):\n",
    "    return (n%10)\n",
    "\n",
    "for num in numbers:\n",
    "    # finding first number\n",
    "    first = first_digit(num)\n",
    "    # finding last number\n",
    "    last = last_digit(num)\n",
    "    \n",
    "    add = first + last\n",
    "    print(\"Sum = \",add)\n",
    "    "
   ]
  },
  {
   "cell_type": "code",
   "execution_count": null,
   "metadata": {},
   "outputs": [],
   "source": []
  },
  {
   "cell_type": "code",
   "execution_count": null,
   "metadata": {},
   "outputs": [],
   "source": []
  },
  {
   "cell_type": "markdown",
   "metadata": {},
   "source": [
    "# 7th Problem"
   ]
  },
  {
   "cell_type": "code",
   "execution_count": 46,
   "metadata": {},
   "outputs": [
    {
     "name": "stdout",
     "output_type": "stream",
     "text": [
      "4\n",
      "45 676 876 45 6789\n",
      "5\n",
      "456 765\n",
      "2\n",
      "3454345 654 76543\n",
      "3\n",
      "3456 789 3 46 678 980\n",
      "6\n"
     ]
    }
   ],
   "source": [
    "n = int(input())\n",
    "for i in range(n):\n",
    "    numbers = [int(x) for x in input().split()]\n",
    "    #print(numbers)\n",
    "    print(len(numbers))"
   ]
  },
  {
   "cell_type": "code",
   "execution_count": null,
   "metadata": {},
   "outputs": [],
   "source": []
  },
  {
   "cell_type": "code",
   "execution_count": null,
   "metadata": {},
   "outputs": [],
   "source": []
  },
  {
   "cell_type": "markdown",
   "metadata": {},
   "source": [
    "# 8th Problem"
   ]
  },
  {
   "cell_type": "code",
   "execution_count": null,
   "metadata": {},
   "outputs": [],
   "source": [
    "# Sorting numbers"
   ]
  },
  {
   "cell_type": "code",
   "execution_count": 50,
   "metadata": {},
   "outputs": [
    {
     "name": "stdout",
     "output_type": "stream",
     "text": [
      "3\n",
      "3 2 1\n",
      "Case 0: [1, 2, 3]\n",
      "1 2 3\n",
      "Case 1: [1, 2, 3]\n",
      "10 5 6\n",
      "Case 2: [5, 6, 10]\n"
     ]
    }
   ],
   "source": [
    "n = int(input())\n",
    "\n",
    "for i in range(n):\n",
    "    numbers = [abs(int(x)) for x in input().split()]\n",
    "    numbers.sort()\n",
    "    print(\"Case {}: {}\".format(i, numbers))\n"
   ]
  },
  {
   "cell_type": "markdown",
   "metadata": {},
   "source": [
    "\n"
   ]
  },
  {
   "cell_type": "code",
   "execution_count": null,
   "metadata": {},
   "outputs": [],
   "source": []
  },
  {
   "cell_type": "code",
   "execution_count": null,
   "metadata": {},
   "outputs": [],
   "source": []
  },
  {
   "cell_type": "markdown",
   "metadata": {},
   "source": [
    "# 9th Problem"
   ]
  },
  {
   "cell_type": "code",
   "execution_count": null,
   "metadata": {},
   "outputs": [],
   "source": [
    "# Finding square root "
   ]
  },
  {
   "cell_type": "code",
   "execution_count": 54,
   "metadata": {},
   "outputs": [
    {
     "name": "stdout",
     "output_type": "stream",
     "text": [
      "3\n",
      "16\n",
      "yes\n",
      "49\n",
      "yes\n",
      "40\n",
      "no\n"
     ]
    }
   ],
   "source": [
    "import math\n",
    "\n",
    "def perfect_root(n):\n",
    "    if n>0:\n",
    "        sq_root = math.sqrt(n)\n",
    "        \n",
    "        if n == sq_root*sq_root:\n",
    "            print('yes')\n",
    "        else:\n",
    "            print('no')\n",
    "            \n",
    "n = int(input())\n",
    "for i in range(n):\n",
    "    number =  int(input())\n",
    "    perfect_root(number)\n"
   ]
  },
  {
   "cell_type": "code",
   "execution_count": null,
   "metadata": {},
   "outputs": [],
   "source": []
  },
  {
   "cell_type": "code",
   "execution_count": null,
   "metadata": {},
   "outputs": [],
   "source": []
  },
  {
   "cell_type": "markdown",
   "metadata": {},
   "source": [
    "# 10th Problem"
   ]
  },
  {
   "cell_type": "code",
   "execution_count": null,
   "metadata": {},
   "outputs": [],
   "source": [
    "# Finding present run rate and predicted run rate "
   ]
  },
  {
   "cell_type": "code",
   "execution_count": 57,
   "metadata": {},
   "outputs": [
    {
     "name": "stdout",
     "output_type": "stream",
     "text": [
      "4\n",
      "300 294 6\n",
      "6.0   7.0\n",
      "200 100 100\n",
      "3.0   6.06\n",
      "333 250 40\n",
      "5.769230769230769   12.6\n",
      "118 100 180\n",
      "5.0   0.6333333333333333\n"
     ]
    }
   ],
   "source": [
    "n = int(input())\n",
    "\n",
    "for i in range(n):\n",
    "    numbers = [abs(int(x)) for x in input().split()]\n",
    "    #print(numbers[0], numbers[1], numbers[2])\n",
    "    present_run_rate = numbers[1] / ((300 - numbers[2])/6)   \n",
    "    winning_run_rate = ((numbers[0]+1) - numbers[1]) / (numbers[2]/6)\n",
    "    \n",
    "    print(present_run_rate, ' ', winning_run_rate)"
   ]
  },
  {
   "cell_type": "code",
   "execution_count": null,
   "metadata": {},
   "outputs": [],
   "source": []
  },
  {
   "cell_type": "code",
   "execution_count": null,
   "metadata": {},
   "outputs": [],
   "source": []
  },
  {
   "cell_type": "markdown",
   "metadata": {},
   "source": [
    "# 11th Problem"
   ]
  },
  {
   "cell_type": "code",
   "execution_count": null,
   "metadata": {},
   "outputs": [],
   "source": [
    "# Finding factorial of a number"
   ]
  },
  {
   "cell_type": "code",
   "execution_count": 3,
   "metadata": {},
   "outputs": [
    {
     "name": "stdout",
     "output_type": "stream",
     "text": [
      "3\n",
      "6\n",
      "720\n",
      "10\n",
      "3628800\n",
      "15\n",
      "1307674368000\n"
     ]
    }
   ],
   "source": [
    "def factorial(n):\n",
    "    factto = 1\n",
    "    if n < 0:\n",
    "        print(\"This is negative number\")\n",
    "    elif n==0:\n",
    "        print(\"factorial of 0 is 1\")\n",
    "    else:\n",
    "        for i in range(1, n+1):\n",
    "            factto = factto*i\n",
    "            \n",
    "        return factto\n",
    "    \n",
    "n = int(input())\n",
    "for i in range(n):\n",
    "    number = int(input())\n",
    "    ft = factorial(number)\n",
    "    print(ft)\n",
    "            "
   ]
  },
  {
   "cell_type": "code",
   "execution_count": null,
   "metadata": {},
   "outputs": [],
   "source": []
  },
  {
   "cell_type": "code",
   "execution_count": null,
   "metadata": {},
   "outputs": [],
   "source": []
  },
  {
   "cell_type": "markdown",
   "metadata": {},
   "source": [
    "# 12th Problem"
   ]
  },
  {
   "cell_type": "code",
   "execution_count": null,
   "metadata": {},
   "outputs": [],
   "source": [
    "# Finding number of zero at the end of a number after factorial"
   ]
  },
  {
   "cell_type": "code",
   "execution_count": 5,
   "metadata": {},
   "outputs": [
    {
     "name": "stdout",
     "output_type": "stream",
     "text": [
      "3\n",
      "6\n",
      "1\n",
      "15\n",
      "3\n",
      "100\n",
      "24\n"
     ]
    }
   ],
   "source": [
    "def zero_in_factorial(n):\n",
    "    x = n//5\n",
    "    y = x\n",
    "    while x>0:\n",
    "        x /= 5\n",
    "        y += int(x)\n",
    "    return y\n",
    "\n",
    "n = int(input())\n",
    "\n",
    "for i in range(n):\n",
    "    number = abs(int(input()))\n",
    "    zero = zero_in_factorial(number)\n",
    "    print(zero)"
   ]
  },
  {
   "cell_type": "code",
   "execution_count": null,
   "metadata": {},
   "outputs": [],
   "source": []
  },
  {
   "cell_type": "code",
   "execution_count": null,
   "metadata": {},
   "outputs": [],
   "source": []
  },
  {
   "cell_type": "markdown",
   "metadata": {},
   "source": [
    "# 13th Problem"
   ]
  },
  {
   "cell_type": "code",
   "execution_count": null,
   "metadata": {},
   "outputs": [],
   "source": [
    "# Finding probability"
   ]
  },
  {
   "cell_type": "code",
   "execution_count": 10,
   "metadata": {},
   "outputs": [
    {
     "name": "stdout",
     "output_type": "stream",
     "text": [
      "1\n",
      "i eat potato\n",
      "0.125\n"
     ]
    }
   ],
   "source": [
    "from random import randint\n",
    "n = int(input())\n",
    "for i in range(n):\n",
    "    string = input()\n",
    "    n = randint(2, 9)\n",
    "    print(1/n)"
   ]
  },
  {
   "cell_type": "code",
   "execution_count": null,
   "metadata": {},
   "outputs": [],
   "source": []
  },
  {
   "cell_type": "code",
   "execution_count": null,
   "metadata": {},
   "outputs": [],
   "source": []
  },
  {
   "cell_type": "markdown",
   "metadata": {},
   "source": [
    "# 14th Problem"
   ]
  },
  {
   "cell_type": "code",
   "execution_count": 22,
   "metadata": {},
   "outputs": [
    {
     "name": "stdout",
     "output_type": "stream",
     "text": [
      "2\n",
      "hello world\n",
      "l\n",
      "3\n",
      "my name is khan\n",
      "m\n",
      "2\n"
     ]
    }
   ],
   "source": [
    "def count_char(st, ch, count):\n",
    "    for i in st:\n",
    "        if i==ch:\n",
    "            count += 1\n",
    "    return count \n",
    "\n",
    "\n",
    "n = int(input())\n",
    "\n",
    "for i in range(n):\n",
    "    count = 0\n",
    "    stri = input()\n",
    "    chra = input()\n",
    "    \n",
    "    co = count_char(stri, chra, count)\n",
    "    print(co)\n",
    "    "
   ]
  },
  {
   "cell_type": "code",
   "execution_count": null,
   "metadata": {},
   "outputs": [],
   "source": []
  },
  {
   "cell_type": "code",
   "execution_count": 20,
   "metadata": {},
   "outputs": [],
   "source": []
  },
  {
   "cell_type": "markdown",
   "metadata": {},
   "source": [
    "# 15th Problem"
   ]
  },
  {
   "cell_type": "code",
   "execution_count": null,
   "metadata": {},
   "outputs": [],
   "source": [
    "# counting all character"
   ]
  },
  {
   "cell_type": "code",
   "execution_count": 49,
   "metadata": {},
   "outputs": [],
   "source": [
    "def count_char(stri):\n",
    "    \n",
    "    uni_char = \"\".join(sorted(set(stri)))\n",
    "    uni_char = uni_char.replace(\" \", \"\")\n",
    "    \n",
    "    for ch in uni_char:\n",
    "        count=0\n",
    "        for ch2 in stri:\n",
    "            if ch==ch2:\n",
    "                count = count+1\n",
    "        print(ch,\" : \",count)"
   ]
  },
  {
   "cell_type": "code",
   "execution_count": 50,
   "metadata": {},
   "outputs": [
    {
     "name": "stdout",
     "output_type": "stream",
     "text": [
      "3\n",
      "hello\n",
      "e  :  1\n",
      "h  :  1\n",
      "l  :  2\n",
      "o  :  1\n",
      "baby\n",
      "a  :  1\n",
      "b  :  2\n",
      "y  :  1\n",
      "programming\n",
      "a  :  1\n",
      "g  :  2\n",
      "i  :  1\n",
      "m  :  2\n",
      "n  :  1\n",
      "o  :  1\n",
      "p  :  1\n",
      "r  :  2\n"
     ]
    }
   ],
   "source": [
    "n = int(input())\n",
    "for i in range(n):\n",
    "    stri = input()\n",
    "    \n",
    "    count_char(stri)"
   ]
  },
  {
   "cell_type": "code",
   "execution_count": null,
   "metadata": {},
   "outputs": [],
   "source": []
  },
  {
   "cell_type": "code",
   "execution_count": null,
   "metadata": {},
   "outputs": [],
   "source": []
  },
  {
   "cell_type": "markdown",
   "metadata": {},
   "source": [
    "# 16th Problem"
   ]
  },
  {
   "cell_type": "code",
   "execution_count": 76,
   "metadata": {},
   "outputs": [
    {
     "name": "stdout",
     "output_type": "stream",
     "text": [
      "1\n",
      "This is test\n",
      "sihT si tset"
     ]
    }
   ],
   "source": [
    "def reverse_print(stri):\n",
    "    ch_list = list()\n",
    "    \n",
    "    for i in range(len(stri)):\n",
    "        if stri[i] != \" \":\n",
    "            ch_list.append(stri[i])\n",
    "            \n",
    "        else:\n",
    "            while len(ch_list) > 0:\n",
    "                print(ch_list[-1], end=\"\")\n",
    "                ch_list.pop()\n",
    "            print(end=\" \")\n",
    "            \n",
    "            \n",
    "    while len(ch_list) > 0:\n",
    "        print(ch_list[-1], end=\"\")\n",
    "        ch_list.pop()\n",
    "\n",
    "\n",
    "n = int(input())\n",
    "\n",
    "for i in range(n):\n",
    "    stri = input()\n",
    "    reverse_print(stri)\n",
    "    "
   ]
  },
  {
   "cell_type": "code",
   "execution_count": null,
   "metadata": {},
   "outputs": [],
   "source": []
  },
  {
   "cell_type": "code",
   "execution_count": null,
   "metadata": {},
   "outputs": [],
   "source": []
  },
  {
   "cell_type": "markdown",
   "metadata": {},
   "source": [
    "# 17th Problem"
   ]
  },
  {
   "cell_type": "code",
   "execution_count": null,
   "metadata": {},
   "outputs": [],
   "source": [
    "# Counting number of vowel character    "
   ]
  },
  {
   "cell_type": "code",
   "execution_count": 20,
   "metadata": {},
   "outputs": [
    {
     "name": "stdout",
     "output_type": "stream",
     "text": [
      "2\n",
      "I am a programmer\n",
      "6\n",
      "I eat rice\n",
      "5\n"
     ]
    }
   ],
   "source": [
    "def count_vowel(st, vowel, count):\n",
    "    for v in vowel:\n",
    "        for s in st:\n",
    "            if v==s:\n",
    "                count = count+1\n",
    "            if v.upper() == s:\n",
    "                count = count+1\n",
    "    return count\n",
    "                \n",
    "n = int(input())\n",
    "for i in range(n):\n",
    "    st = input()\n",
    "    count = 0\n",
    "    vowel = 'aeiou'\n",
    "    c = count_vowel(st, vowel, count)\n",
    "    print(c)"
   ]
  },
  {
   "cell_type": "code",
   "execution_count": null,
   "metadata": {},
   "outputs": [],
   "source": []
  },
  {
   "cell_type": "code",
   "execution_count": null,
   "metadata": {},
   "outputs": [],
   "source": []
  },
  {
   "cell_type": "markdown",
   "metadata": {},
   "source": [
    "# 18th Problem"
   ]
  },
  {
   "cell_type": "code",
   "execution_count": 83,
   "metadata": {},
   "outputs": [
    {
     "name": "stdout",
     "output_type": "stream",
     "text": [
      "2\n",
      "this is a very easy\n",
      "thssvrysy iiaeea\n",
      "it is a tainy sunday\n",
      "tstnysndy iiaaiua\n"
     ]
    }
   ],
   "source": [
    "def print_cons(stri, vowel):\n",
    "    cons = [v for v in stri if v not in vowel]\n",
    "    cons = ''.join(cons)\n",
    "    cons = cons.replace(' ', '')\n",
    "    #print(cons)\n",
    "    return cons\n",
    "    \n",
    "def print_vowl(stri, vowel):\n",
    "    vowel = [v for v in stri if v in vowel]\n",
    "    vowel = ''.join(vowel)\n",
    "    return vowel\n",
    "\n",
    "\n",
    "n = int(input())\n",
    "for i in range(n):\n",
    "    st = input()\n",
    "    vowel = 'aAeEiIoOuU'\n",
    "    c = print_cons(st, vowel)\n",
    "    v = print_vowl(st, vowel)\n",
    "    print(c, v)"
   ]
  },
  {
   "cell_type": "code",
   "execution_count": null,
   "metadata": {},
   "outputs": [],
   "source": []
  },
  {
   "cell_type": "code",
   "execution_count": null,
   "metadata": {},
   "outputs": [],
   "source": []
  },
  {
   "cell_type": "markdown",
   "metadata": {},
   "source": [
    "# 19th Problem"
   ]
  },
  {
   "cell_type": "code",
   "execution_count": null,
   "metadata": {},
   "outputs": [],
   "source": []
  },
  {
   "cell_type": "code",
   "execution_count": null,
   "metadata": {},
   "outputs": [],
   "source": []
  },
  {
   "cell_type": "code",
   "execution_count": null,
   "metadata": {},
   "outputs": [],
   "source": []
  },
  {
   "cell_type": "code",
   "execution_count": null,
   "metadata": {},
   "outputs": [],
   "source": []
  },
  {
   "cell_type": "markdown",
   "metadata": {},
   "source": [
    "# 20th Problem"
   ]
  },
  {
   "cell_type": "code",
   "execution_count": null,
   "metadata": {},
   "outputs": [],
   "source": []
  },
  {
   "cell_type": "code",
   "execution_count": null,
   "metadata": {},
   "outputs": [],
   "source": []
  },
  {
   "cell_type": "code",
   "execution_count": null,
   "metadata": {},
   "outputs": [],
   "source": []
  },
  {
   "cell_type": "code",
   "execution_count": null,
   "metadata": {},
   "outputs": [],
   "source": []
  },
  {
   "cell_type": "markdown",
   "metadata": {},
   "source": [
    "# 21st Problem"
   ]
  },
  {
   "cell_type": "code",
   "execution_count": null,
   "metadata": {},
   "outputs": [],
   "source": [
    "# Reverse print of a word"
   ]
  },
  {
   "cell_type": "code",
   "execution_count": 85,
   "metadata": {},
   "outputs": [
    {
     "name": "stdout",
     "output_type": "stream",
     "text": [
      "3\n",
      "string\n",
      "gnirts\n",
      "programming\n",
      "gnimmargorp\n",
      "Aruna\n",
      "anurA\n"
     ]
    }
   ],
   "source": [
    "n = int(input())\n",
    "for i in range(n):\n",
    "    st = input()\n",
    "    \n",
    "    sli_str = st[len(st)::-1]\n",
    "    print(sli_str)\n",
    "    "
   ]
  },
  {
   "cell_type": "code",
   "execution_count": null,
   "metadata": {},
   "outputs": [],
   "source": []
  },
  {
   "cell_type": "code",
   "execution_count": null,
   "metadata": {},
   "outputs": [],
   "source": []
  },
  {
   "cell_type": "markdown",
   "metadata": {},
   "source": [
    "# 22nd Problem"
   ]
  },
  {
   "cell_type": "code",
   "execution_count": null,
   "metadata": {},
   "outputs": [],
   "source": [
    "# Finding prime number of a given range "
   ]
  },
  {
   "cell_type": "code",
   "execution_count": 92,
   "metadata": {},
   "outputs": [
    {
     "name": "stdout",
     "output_type": "stream",
     "text": [
      "3\n",
      "Enter two value: 1 5\n",
      "1\n",
      "2\n",
      "3\n",
      "5\n",
      "Enter two value: 4 20\n",
      "5\n",
      "7\n",
      "11\n",
      "13\n",
      "17\n",
      "19\n",
      "Enter two value: 10 50\n",
      "11\n",
      "13\n",
      "17\n",
      "19\n",
      "23\n",
      "29\n",
      "31\n",
      "37\n",
      "41\n",
      "43\n",
      "47\n"
     ]
    }
   ],
   "source": [
    "def prime_number(start, end):\n",
    "    for i in range(start, end+1):\n",
    "        if i>0:\n",
    "            for j in range(2, i):\n",
    "                if (i%j)==0:\n",
    "                    break\n",
    "            else:\n",
    "                print(i)\n",
    "\n",
    "n = int(input())\n",
    "for i in range(n):\n",
    "    start, end = [int(x) for x in input(\"Enter two value: \").split()]\n",
    "    #end = int(input())\n",
    "    \n",
    "    prime_number(start, end)\n",
    "    "
   ]
  },
  {
   "cell_type": "code",
   "execution_count": null,
   "metadata": {},
   "outputs": [],
   "source": []
  },
  {
   "cell_type": "code",
   "execution_count": null,
   "metadata": {},
   "outputs": [],
   "source": []
  },
  {
   "cell_type": "markdown",
   "metadata": {},
   "source": [
    "# 23rd Problem"
   ]
  },
  {
   "cell_type": "code",
   "execution_count": null,
   "metadata": {},
   "outputs": [],
   "source": [
    "# Printing character to number "
   ]
  },
  {
   "cell_type": "code",
   "execution_count": 130,
   "metadata": {},
   "outputs": [
    {
     "name": "stdout",
     "output_type": "stream",
     "text": [
      "3\n",
      "ABZ\n",
      "1226gh\n",
      "78werwefw\n",
      "23518235623"
     ]
    }
   ],
   "source": [
    "import string\n",
    "\n",
    "\n",
    "def lett_number(st):\n",
    "    upp = st.upper()\n",
    "    \n",
    "    let = []\n",
    "    for letter in string.ascii_uppercase:\n",
    "        let.append(letter)\n",
    "        \n",
    "    number = [x for x in range(1, 27)]   \n",
    "    \n",
    "    d = {}\n",
    "    for l, n in zip(let, number):\n",
    "        d[l] = n\n",
    "    \n",
    "    for c in upp:\n",
    "        n = d[c]\n",
    "        print(n, end='')\n",
    "    \n",
    "n = int(input())\n",
    "for i in range(n):\n",
    "    st = input()\n",
    "    lett_number(st)"
   ]
  },
  {
   "cell_type": "code",
   "execution_count": null,
   "metadata": {},
   "outputs": [],
   "source": []
  },
  {
   "cell_type": "code",
   "execution_count": null,
   "metadata": {},
   "outputs": [],
   "source": []
  },
  {
   "cell_type": "markdown",
   "metadata": {},
   "source": [
    "# 24th Problem"
   ]
  },
  {
   "cell_type": "code",
   "execution_count": null,
   "metadata": {},
   "outputs": [],
   "source": [
    "# Printing alternate element"
   ]
  },
  {
   "cell_type": "code",
   "execution_count": 135,
   "metadata": {},
   "outputs": [
    {
     "name": "stdout",
     "output_type": "stream",
     "text": [
      "2\n",
      "5\n",
      "1 2 3 4 5\n",
      "135\n",
      "10\n",
      "1 4 55 66 22 0 76 11 23 78\n",
      "155227623\n"
     ]
    }
   ],
   "source": [
    "def alternate_number(numbers):\n",
    "    for ind, num in enumerate(numbers):\n",
    "        if ind%2==0:\n",
    "            print(num, end='')\n",
    "    print()\n",
    "\n",
    "n = int(input())\n",
    "\n",
    "for i in range(n):\n",
    "    digit_num = int(input())\n",
    "    numbers = [int(x) for x in input().split()]\n",
    "    \n",
    "    alternate_number(numbers)"
   ]
  },
  {
   "cell_type": "code",
   "execution_count": null,
   "metadata": {},
   "outputs": [],
   "source": []
  },
  {
   "cell_type": "code",
   "execution_count": null,
   "metadata": {},
   "outputs": [],
   "source": []
  },
  {
   "cell_type": "markdown",
   "metadata": {},
   "source": [
    "# 25th Problem"
   ]
  },
  {
   "cell_type": "code",
   "execution_count": null,
   "metadata": {},
   "outputs": [],
   "source": [
    "# Finding LCM(least common multiple) "
   ]
  },
  {
   "cell_type": "code",
   "execution_count": 137,
   "metadata": {},
   "outputs": [
    {
     "name": "stdout",
     "output_type": "stream",
     "text": [
      "2\n",
      "30 15\n",
      "LCM =  30\n",
      "12 16\n",
      "LCM =  48\n"
     ]
    }
   ],
   "source": [
    "def find_LCM(x, y):\n",
    "    if x>y:\n",
    "        greater = x\n",
    "    else:\n",
    "        greater = y\n",
    "        \n",
    "    while(True):\n",
    "        if ((greater%x == 0) and (greater %y == 0)):\n",
    "            lcm = greater\n",
    "            break\n",
    "        greater += 1\n",
    "    print(\"LCM = \", lcm)\n",
    "\n",
    "\n",
    "n = int(input())\n",
    "\n",
    "for i in range(n):\n",
    "    x, y = [int(x) for x in input().split()]\n",
    "    \n",
    "    find_LCM(x, y)"
   ]
  },
  {
   "cell_type": "code",
   "execution_count": null,
   "metadata": {},
   "outputs": [],
   "source": []
  },
  {
   "cell_type": "code",
   "execution_count": null,
   "metadata": {},
   "outputs": [],
   "source": []
  },
  {
   "cell_type": "markdown",
   "metadata": {},
   "source": [
    "# 26th Problem"
   ]
  },
  {
   "cell_type": "code",
   "execution_count": 138,
   "metadata": {},
   "outputs": [],
   "source": [
    "# Finding armstrong number"
   ]
  },
  {
   "cell_type": "code",
   "execution_count": 148,
   "metadata": {},
   "outputs": [
    {
     "name": "stdout",
     "output_type": "stream",
     "text": [
      "3\n",
      "100\n",
      "100 is not armstrong number\n",
      "153\n",
      "153 is an armstrong number\n",
      "371\n",
      "371 is an armstrong number\n"
     ]
    }
   ],
   "source": [
    "def find_armstr(n):\n",
    "    length = len(n)\n",
    "    \n",
    "    power = 0\n",
    "    for i in n:\n",
    "        power = power + pow(int(i), length)\n",
    "        #print(i)\n",
    "        \n",
    "    if power == int(n):\n",
    "        print('{} is an armstrong number'.format(n))\n",
    "    else:\n",
    "        print('{} is not armstrong number'.format(n))\n",
    "    \n",
    "\n",
    "n = int(input())\n",
    "for i in range(n):\n",
    "    number = input()\n",
    "    \n",
    "    find_armstr(number)"
   ]
  },
  {
   "cell_type": "code",
   "execution_count": null,
   "metadata": {},
   "outputs": [],
   "source": []
  },
  {
   "cell_type": "code",
   "execution_count": null,
   "metadata": {},
   "outputs": [],
   "source": []
  },
  {
   "cell_type": "markdown",
   "metadata": {},
   "source": [
    "# 28th Problem"
   ]
  },
  {
   "cell_type": "code",
   "execution_count": 149,
   "metadata": {},
   "outputs": [],
   "source": [
    "# Checking sort or not"
   ]
  },
  {
   "cell_type": "code",
   "execution_count": 154,
   "metadata": {},
   "outputs": [
    {
     "name": "stdout",
     "output_type": "stream",
     "text": [
      "4\n",
      "3 4 2 3\n",
      "no\n"
     ]
    }
   ],
   "source": [
    "n = int(input())\n",
    "\n",
    "numbers = [int(x) for x in input().split()]\n",
    "\n",
    "tmp = 0\n",
    "i=1\n",
    "while i < len(numbers):\n",
    "    if (numbers[i] < numbers[i-1]):\n",
    "        tmp=1\n",
    "    i=i+1\n",
    "\n",
    "if (not tmp):\n",
    "    print('yes')\n",
    "else:\n",
    "    print('no')"
   ]
  },
  {
   "cell_type": "code",
   "execution_count": null,
   "metadata": {},
   "outputs": [],
   "source": []
  },
  {
   "cell_type": "code",
   "execution_count": null,
   "metadata": {},
   "outputs": [],
   "source": []
  },
  {
   "cell_type": "markdown",
   "metadata": {},
   "source": [
    "# 29th Problem"
   ]
  },
  {
   "cell_type": "code",
   "execution_count": null,
   "metadata": {},
   "outputs": [],
   "source": [
    "# Checking character"
   ]
  },
  {
   "cell_type": "code",
   "execution_count": 160,
   "metadata": {},
   "outputs": [
    {
     "name": "stdout",
     "output_type": "stream",
     "text": [
      "5\n",
      "a\n",
      "Lowercase letter\n",
      "A\n",
      "Uppercase letter\n",
      "5\n",
      "Numerical Digit\n",
      ",\n",
      "Special character\n",
      ":\n",
      "Special character\n"
     ]
    }
   ],
   "source": [
    "import string\n",
    "\n",
    "n = int(input())\n",
    "\n",
    "for i in range(n):\n",
    "    chars = [input()]\n",
    "    \n",
    "    for c in chars:\n",
    "        if c.isdigit():\n",
    "            print('Numerical Digit')\n",
    "        if c.isupper():\n",
    "            print(\"Uppercase letter\")\n",
    "        if c.islower():\n",
    "            print('Lowercase letter')\n",
    "        if c in string.punctuation:\n",
    "            print('Special character')\n"
   ]
  },
  {
   "cell_type": "code",
   "execution_count": 161,
   "metadata": {},
   "outputs": [
    {
     "data": {
      "text/plain": [
       "18"
      ]
     },
     "execution_count": 161,
     "metadata": {},
     "output_type": "execute_result"
    }
   ],
   "source": []
  },
  {
   "cell_type": "code",
   "execution_count": null,
   "metadata": {},
   "outputs": [],
   "source": []
  },
  {
   "cell_type": "markdown",
   "metadata": {},
   "source": [
    "# 30th Problem"
   ]
  },
  {
   "cell_type": "code",
   "execution_count": null,
   "metadata": {},
   "outputs": [],
   "source": [
    "# Checking Perfect number"
   ]
  },
  {
   "cell_type": "code",
   "execution_count": 164,
   "metadata": {},
   "outputs": [
    {
     "name": "stdout",
     "output_type": "stream",
     "text": [
      "3\n",
      "6\n",
      "6 is a perfect number\n",
      "28\n",
      "28 is a perfect number\n",
      "30\n",
      "30 is not a perfect number\n"
     ]
    }
   ],
   "source": [
    "def perfect_number(n):\n",
    "    l = []\n",
    "    for i in range(int(n/2)+1):\n",
    "        if n%(i+1) == 0:\n",
    "            l.append(i+1)\n",
    "            \n",
    "    if sum(l) == n:\n",
    "        print('{} is a perfect number'.format(n))\n",
    "    else:\n",
    "        print('{} is not a perfect number'.format(n))\n",
    "            \n",
    "\n",
    "n = int(input())\n",
    "for i in range(n):\n",
    "    number = int(input())\n",
    "    perfect_number(number)\n"
   ]
  },
  {
   "cell_type": "code",
   "execution_count": null,
   "metadata": {},
   "outputs": [],
   "source": []
  },
  {
   "cell_type": "code",
   "execution_count": 2,
   "metadata": {},
   "outputs": [
    {
     "data": {
      "text/plain": [
       "9"
      ]
     },
     "execution_count": 2,
     "metadata": {},
     "output_type": "execute_result"
    }
   ],
   "source": [
    "l = [2,3,4]\n",
    "sum(l)"
   ]
  },
  {
   "cell_type": "markdown",
   "metadata": {},
   "source": [
    "# 31st Problem"
   ]
  },
  {
   "cell_type": "code",
   "execution_count": 1,
   "metadata": {},
   "outputs": [],
   "source": [
    "# Finding perfect number of a given area"
   ]
  },
  {
   "cell_type": "code",
   "execution_count": 18,
   "metadata": {},
   "outputs": [
    {
     "name": "stdout",
     "output_type": "stream",
     "text": [
      "2\n",
      "100\n",
      "6\n",
      "28\n",
      "500\n",
      "6\n",
      "28\n",
      "496\n"
     ]
    }
   ],
   "source": [
    "def perfect_number(number):\n",
    "    for i in range(1, number+1):\n",
    "        \n",
    "        summ = 0\n",
    "        for j in range(1, i):\n",
    "            if (i%j==0):\n",
    "                summ = summ+j\n",
    "        if summ==i:\n",
    "            print(i)\n",
    "            \n",
    "n = int(input())\n",
    "for i in range(n):\n",
    "    number = int(input())\n",
    "    perfect_number(number)"
   ]
  },
  {
   "cell_type": "code",
   "execution_count": 12,
   "metadata": {},
   "outputs": [],
   "source": []
  },
  {
   "cell_type": "code",
   "execution_count": null,
   "metadata": {},
   "outputs": [],
   "source": []
  },
  {
   "cell_type": "markdown",
   "metadata": {},
   "source": [
    "# 32nd Problem"
   ]
  },
  {
   "cell_type": "code",
   "execution_count": null,
   "metadata": {},
   "outputs": [],
   "source": [
    "# Finding multiples in a given limit"
   ]
  },
  {
   "cell_type": "code",
   "execution_count": 27,
   "metadata": {},
   "outputs": [
    {
     "name": "stdout",
     "output_type": "stream",
     "text": [
      "3\n",
      "2 10\n",
      "2\n",
      "4\n",
      "6\n",
      "8\n",
      "10\n",
      "99 1000\n",
      "99\n",
      "198\n",
      "297\n",
      "396\n",
      "495\n",
      "594\n",
      "693\n",
      "792\n",
      "891\n",
      "990\n",
      "10 5\n",
      "Invalid!\n"
     ]
    }
   ],
   "source": [
    "def find_multiple(n, l):\n",
    "    inc = n\n",
    "    if n<l:\n",
    "        for i in range(int(l/2)):\n",
    "            if inc<=l:\n",
    "                print(inc)\n",
    "                inc += n\n",
    "    else:\n",
    "        print('Invalid!')\n",
    "    \n",
    "n = int(input())\n",
    "for i in range(n):\n",
    "    num, limit = [int(x) for x in input().split()]\n",
    "    find_multiple(num, limit)"
   ]
  },
  {
   "cell_type": "code",
   "execution_count": null,
   "metadata": {},
   "outputs": [],
   "source": []
  },
  {
   "cell_type": "code",
   "execution_count": null,
   "metadata": {},
   "outputs": [],
   "source": []
  },
  {
   "cell_type": "markdown",
   "metadata": {},
   "source": [
    "# 33rd Problem"
   ]
  },
  {
   "cell_type": "code",
   "execution_count": 28,
   "metadata": {},
   "outputs": [],
   "source": [
    "# Finding divisible number of given limit"
   ]
  },
  {
   "cell_type": "code",
   "execution_count": 30,
   "metadata": {},
   "outputs": [
    {
     "name": "stdout",
     "output_type": "stream",
     "text": [
      "3\n",
      "2 20 3\n",
      "3\n",
      "6\n",
      "9\n",
      "12\n",
      "15\n",
      "18\n",
      "50 60 5\n",
      "50\n",
      "55\n",
      "60\n",
      "55 100 6\n",
      "60\n",
      "66\n",
      "72\n",
      "78\n",
      "84\n",
      "90\n",
      "96\n"
     ]
    }
   ],
   "source": [
    "def find_dividend(l, u, d):\n",
    "    for i in range(l, u+1):\n",
    "        #l = []\n",
    "        if i%d==0:\n",
    "            #l.append(i)\n",
    "            print(i)\n",
    "\n",
    "n = int(input())\n",
    "for i in range(n):\n",
    "    low_limit, upper_limit, divisor = [int(x) for x in input().split()]\n",
    "    find_dividend(low_limit, upper_limit, divisor)"
   ]
  },
  {
   "cell_type": "code",
   "execution_count": null,
   "metadata": {},
   "outputs": [],
   "source": []
  },
  {
   "cell_type": "code",
   "execution_count": null,
   "metadata": {},
   "outputs": [],
   "source": []
  },
  {
   "cell_type": "markdown",
   "metadata": {},
   "source": [
    "# 34th Problem"
   ]
  },
  {
   "cell_type": "code",
   "execution_count": 32,
   "metadata": {},
   "outputs": [
    {
     "name": "stdout",
     "output_type": "stream",
     "text": [
      "3\n",
      "2 3 50\n",
      "6\n",
      "12\n",
      "18\n",
      "24\n",
      "30\n",
      "36\n",
      "42\n",
      "48\n",
      "3 5 50\n",
      "15\n",
      "30\n",
      "45\n",
      "5 6 100\n",
      "30\n",
      "60\n",
      "90\n"
     ]
    }
   ],
   "source": [
    "def find_divident(f, lt, l):\n",
    "    for i in range(1, l+1):\n",
    "        if (i%f==0) and (i%lt==0):\n",
    "            print(i)\n",
    "\n",
    "n = int(input())\n",
    "for i in range(n):\n",
    "    f_divisor, l_divisor, limit = [int(x) for x in input().split()]\n",
    "    \n",
    "    find_divident(f_divisor, l_divisor, limit)"
   ]
  },
  {
   "cell_type": "code",
   "execution_count": null,
   "metadata": {},
   "outputs": [],
   "source": []
  },
  {
   "cell_type": "code",
   "execution_count": null,
   "metadata": {},
   "outputs": [],
   "source": []
  },
  {
   "cell_type": "markdown",
   "metadata": {},
   "source": [
    "# 35th Problem"
   ]
  },
  {
   "cell_type": "code",
   "execution_count": null,
   "metadata": {},
   "outputs": [],
   "source": [
    "# finding location of a point in a circle"
   ]
  },
  {
   "cell_type": "code",
   "execution_count": 35,
   "metadata": {},
   "outputs": [
    {
     "name": "stdout",
     "output_type": "stream",
     "text": [
      "2\n",
      "1 1 4 10 -14\n",
      "point is out of circle\n",
      "1 1 8 5 6\n",
      "point is inside of the circle\n"
     ]
    }
   ],
   "source": [
    "import math\n",
    "\n",
    "\n",
    "def find_location(c1, c2, r, n1, n2):\n",
    "    distance = math.sqrt((n1-c1)**2 + (n2-c2)**2)\n",
    "    if distance > r:\n",
    "        print('point is out of circle')\n",
    "    else:\n",
    "        print('point is inside of the circle')\n",
    "        \n",
    "\n",
    "n = int(input())\n",
    "\n",
    "for i in range(n):\n",
    "    c1, c2, r, n1, n2 = [int(x) for x in input().split()]\n",
    "    \n",
    "    find_location(c1, c2, r, n1, n2)"
   ]
  },
  {
   "cell_type": "code",
   "execution_count": null,
   "metadata": {},
   "outputs": [],
   "source": []
  },
  {
   "cell_type": "code",
   "execution_count": null,
   "metadata": {},
   "outputs": [],
   "source": []
  },
  {
   "cell_type": "markdown",
   "metadata": {},
   "source": [
    "# 36th Problem"
   ]
  },
  {
   "cell_type": "code",
   "execution_count": null,
   "metadata": {},
   "outputs": [],
   "source": [
    "# Printing reverse of a number"
   ]
  },
  {
   "cell_type": "code",
   "execution_count": 40,
   "metadata": {},
   "outputs": [
    {
     "name": "stdout",
     "output_type": "stream",
     "text": [
      "3\n",
      "612\n",
      "216\n",
      "1431056\n",
      "6501341\n",
      "10041992\n",
      "29914001\n"
     ]
    }
   ],
   "source": [
    "def reverse_num(n):\n",
    "    reverse = 0\n",
    "    while(n>0):\n",
    "        reminder = n%10\n",
    "        reverse = (reverse*10) + reminder\n",
    "        n = n // 10\n",
    "    print(reverse)\n",
    "        \n",
    "n = int(input())\n",
    "for i in range(n):\n",
    "    n = int(input())\n",
    "    reverse_num(n)"
   ]
  },
  {
   "cell_type": "code",
   "execution_count": null,
   "metadata": {},
   "outputs": [],
   "source": []
  },
  {
   "cell_type": "code",
   "execution_count": null,
   "metadata": {},
   "outputs": [],
   "source": [
    "   "
   ]
  },
  {
   "cell_type": "markdown",
   "metadata": {},
   "source": [
    "# 37th Problem"
   ]
  },
  {
   "cell_type": "code",
   "execution_count": 49,
   "metadata": {},
   "outputs": [
    {
     "name": "stdout",
     "output_type": "stream",
     "text": [
      "1\n",
      "ifwiw woj2r2ru www wfwwi 232rwe\n"
     ]
    }
   ],
   "source": [
    "def sort_word(words):\n",
    "    if not words:\n",
    "        return []\n",
    "    return (sort_word([x for x in words[1:] if x < words[0]])\n",
    "            + [words[0]] +\n",
    "            sort_word([x for x in words[1:] if x >= words[0]])\n",
    "           )\n",
    "\n",
    "n = int(input())\n",
    "for x in range(n):\n",
    "    words = [x for x in input().split()]\n",
    "    sort_word(words)\n",
    "    "
   ]
  },
  {
   "cell_type": "code",
   "execution_count": null,
   "metadata": {},
   "outputs": [],
   "source": []
  },
  {
   "cell_type": "code",
   "execution_count": null,
   "metadata": {},
   "outputs": [],
   "source": []
  },
  {
   "cell_type": "markdown",
   "metadata": {},
   "source": [
    "# 38th Problem"
   ]
  },
  {
   "cell_type": "code",
   "execution_count": null,
   "metadata": {},
   "outputs": [],
   "source": []
  },
  {
   "cell_type": "code",
   "execution_count": null,
   "metadata": {},
   "outputs": [],
   "source": []
  },
  {
   "cell_type": "markdown",
   "metadata": {},
   "source": [
    "# 39th Problem"
   ]
  },
  {
   "cell_type": "code",
   "execution_count": null,
   "metadata": {},
   "outputs": [],
   "source": [
    "# Finding palindrome "
   ]
  },
  {
   "cell_type": "code",
   "execution_count": 52,
   "metadata": {},
   "outputs": [
    {
     "name": "stdout",
     "output_type": "stream",
     "text": [
      "3\n",
      "wow\n",
      "Yes! It is Palindrome!\n",
      "string\n",
      "Sorry! It is not Palindrome\n",
      "civic\n",
      "Yes! It is Palindrome!\n"
     ]
    }
   ],
   "source": [
    "def find_palindrome(word):\n",
    "    rev_word = word[::-1]\n",
    "    #print(rev_word)\n",
    "    \n",
    "    if word==rev_word:\n",
    "        print('Yes! It is Palindrome!')\n",
    "    else:\n",
    "        print(\"Sorry! It is not Palindrome\")\n",
    "    \n",
    "n = int(input())\n",
    "for x in range(n):\n",
    "    word = input()\n",
    "    find_palindrome(word)"
   ]
  },
  {
   "cell_type": "code",
   "execution_count": null,
   "metadata": {},
   "outputs": [],
   "source": []
  },
  {
   "cell_type": "code",
   "execution_count": null,
   "metadata": {},
   "outputs": [],
   "source": []
  },
  {
   "cell_type": "markdown",
   "metadata": {},
   "source": [
    "# 40th Problem"
   ]
  },
  {
   "cell_type": "code",
   "execution_count": null,
   "metadata": {},
   "outputs": [],
   "source": [
    "# adding of sequence"
   ]
  },
  {
   "cell_type": "code",
   "execution_count": 54,
   "metadata": {},
   "outputs": [
    {
     "name": "stdout",
     "output_type": "stream",
     "text": [
      "2\n",
      "5 2\n",
      "Result =  31\n",
      "2 5\n",
      "Result =  63\n"
     ]
    }
   ],
   "source": [
    "def sequence(x,k):\n",
    "    summ=0\n",
    "    for i in range(k+1):\n",
    "        summ=summ+x**i\n",
    "    print(\"Result = \",summ)\n",
    "    \n",
    "\n",
    "n = int(input())\n",
    "for x in range(n):\n",
    "    x, k = [int(x) for x in input().split()]\n",
    "    sequence(x, k)"
   ]
  },
  {
   "cell_type": "code",
   "execution_count": null,
   "metadata": {},
   "outputs": [],
   "source": []
  },
  {
   "cell_type": "code",
   "execution_count": null,
   "metadata": {},
   "outputs": [],
   "source": []
  },
  {
   "cell_type": "markdown",
   "metadata": {},
   "source": [
    "# 41st Problem"
   ]
  },
  {
   "cell_type": "code",
   "execution_count": 59,
   "metadata": {},
   "outputs": [
    {
     "name": "stdout",
     "output_type": "stream",
     "text": [
      "3\n",
      "5\n",
      "2.7083\n",
      "8\n",
      "2.7183\n",
      "10\n",
      "2.7183\n"
     ]
    }
   ],
   "source": [
    "def factorial(i):\n",
    "    if i==1:\n",
    "        return 1\n",
    "    \n",
    "    else:\n",
    "        fact=1\n",
    "        for i in range(1, i+1):\n",
    "            fact = fact*i\n",
    "        return fact\n",
    "\n",
    "def sequence(num):\n",
    "    summ = 0\n",
    "    for i in range(1, num+1):\n",
    "        summ = summ+(i/(factorial(i))) \n",
    "    print(round(summ, 4))\n",
    "        \n",
    "n = int(input())\n",
    "for i in range(n):\n",
    "    number = int(input())\n",
    "    sequence(number)"
   ]
  },
  {
   "cell_type": "code",
   "execution_count": null,
   "metadata": {},
   "outputs": [],
   "source": []
  },
  {
   "cell_type": "code",
   "execution_count": null,
   "metadata": {},
   "outputs": [],
   "source": []
  },
  {
   "cell_type": "markdown",
   "metadata": {},
   "source": [
    "# 42nd Problem"
   ]
  },
  {
   "cell_type": "code",
   "execution_count": null,
   "metadata": {},
   "outputs": [],
   "source": [
    "# Printing sequence"
   ]
  },
  {
   "cell_type": "code",
   "execution_count": 66,
   "metadata": {},
   "outputs": [
    {
     "name": "stdout",
     "output_type": "stream",
     "text": [
      "3\n",
      "5\n",
      "2^5 + 2^4 + 2^3 + 2^2 + 2 + 1\n",
      "8\n",
      "2^8 + 2^7 + 2^6 + 2^5 + 2^4 + 2^3 + 2^2 + 2 + 1\n",
      "10\n",
      "2^10 + 2^9 + 2^8 + 2^7 + 2^6 + 2^5 + 2^4 + 2^3 + 2^2 + 2 + 1\n"
     ]
    }
   ],
   "source": [
    "def base_power(n):\n",
    "    for i in reversed(range(1, n+1)):\n",
    "        if i==1:\n",
    "            print(\"2 + 1\")\n",
    "        else:\n",
    "            print(\"2^{} + \".format(i), end='')\n",
    "\n",
    "n = int(input())\n",
    "for x in range(n):\n",
    "    number = int(input())\n",
    "    \n",
    "    base_power(number)"
   ]
  },
  {
   "cell_type": "code",
   "execution_count": null,
   "metadata": {},
   "outputs": [],
   "source": []
  },
  {
   "cell_type": "code",
   "execution_count": null,
   "metadata": {},
   "outputs": [],
   "source": []
  },
  {
   "cell_type": "markdown",
   "metadata": {},
   "source": [
    "# 43rd Problem"
   ]
  },
  {
   "cell_type": "code",
   "execution_count": null,
   "metadata": {},
   "outputs": [],
   "source": [
    "# Finding mod"
   ]
  },
  {
   "cell_type": "code",
   "execution_count": 72,
   "metadata": {},
   "outputs": [
    {
     "name": "stdout",
     "output_type": "stream",
     "text": [
      "3\n",
      "2 3 3\n",
      "Result =  2\n",
      "2 10 5\n",
      "Result =  4\n",
      "50 2 3\n",
      "Result =  1\n"
     ]
    }
   ],
   "source": [
    "def calculation(p, q, c):\n",
    "    power = p**q\n",
    "    final_cal = power - (int(power/c)* c)\n",
    "    print(\"Result = \",final_cal)\n",
    "    \n",
    "\n",
    "n = int(input())\n",
    "for x in range(n):\n",
    "    p, q, c = [int(x) for x in input().split()]\n",
    "    calculation(p, q, c)"
   ]
  },
  {
   "cell_type": "code",
   "execution_count": null,
   "metadata": {},
   "outputs": [],
   "source": []
  },
  {
   "cell_type": "code",
   "execution_count": null,
   "metadata": {},
   "outputs": [],
   "source": []
  },
  {
   "cell_type": "markdown",
   "metadata": {},
   "source": [
    "# 44th Problem"
   ]
  },
  {
   "cell_type": "code",
   "execution_count": null,
   "metadata": {},
   "outputs": [],
   "source": []
  },
  {
   "cell_type": "code",
   "execution_count": null,
   "metadata": {},
   "outputs": [],
   "source": []
  },
  {
   "cell_type": "code",
   "execution_count": null,
   "metadata": {},
   "outputs": [],
   "source": []
  },
  {
   "cell_type": "markdown",
   "metadata": {},
   "source": [
    "# 45th Problem"
   ]
  },
  {
   "cell_type": "code",
   "execution_count": null,
   "metadata": {},
   "outputs": [],
   "source": []
  },
  {
   "cell_type": "code",
   "execution_count": null,
   "metadata": {},
   "outputs": [],
   "source": []
  },
  {
   "cell_type": "code",
   "execution_count": null,
   "metadata": {},
   "outputs": [],
   "source": []
  },
  {
   "cell_type": "markdown",
   "metadata": {},
   "source": [
    "# 46th Problem"
   ]
  },
  {
   "cell_type": "code",
   "execution_count": 3,
   "metadata": {},
   "outputs": [
    {
     "name": "stdout",
     "output_type": "stream",
     "text": [
      "3\n",
      "24 30 18\n",
      "Area =  216.0\n",
      "13 18 15\n",
      "Area =  95.917\n",
      "20 20 20\n",
      "Area =  173.205\n"
     ]
    }
   ],
   "source": [
    "import math\n",
    "\n",
    "\n",
    "def area_cal(a,b,c):\n",
    "    s = (a+b+c) / 2\n",
    "    \n",
    "    s = math.sqrt(s * (s-a) * (s-b) * (s-c))\n",
    "    print('Area = ', round(s, 3))\n",
    "\n",
    "n = int(input())\n",
    "for x in range(n):\n",
    "    a, b, c = [int(x) for x in input().split()]\n",
    "    \n",
    "    area_cal(a, b, c)"
   ]
  },
  {
   "cell_type": "code",
   "execution_count": null,
   "metadata": {},
   "outputs": [],
   "source": []
  },
  {
   "cell_type": "code",
   "execution_count": null,
   "metadata": {},
   "outputs": [],
   "source": []
  },
  {
   "cell_type": "markdown",
   "metadata": {},
   "source": [
    "# 47th Problem"
   ]
  },
  {
   "cell_type": "code",
   "execution_count": null,
   "metadata": {},
   "outputs": [],
   "source": [
    "# sorting two list"
   ]
  },
  {
   "cell_type": "code",
   "execution_count": 9,
   "metadata": {},
   "outputs": [
    {
     "name": "stdout",
     "output_type": "stream",
     "text": [
      "2\n",
      "3\n",
      "1 3 5\n",
      "2\n",
      "4 10\n",
      "[1, 3, 5, 4, 10]\n",
      "[1, 3, 4, 5, 10]\n",
      "5\n",
      "10 20 30 40 50\n",
      "3\n",
      "15 21 22\n",
      "[10, 20, 30, 40, 50, 15, 21, 22]\n",
      "[10, 15, 20, 21, 22, 30, 40, 50]\n"
     ]
    }
   ],
   "source": [
    "def sort_combined(join_two):\n",
    "    new_list  = []\n",
    "    # Sort function\n",
    "    for i in join_two:\n",
    "        new_list = [ x for x in new_list if i > x ] + [i] + [ x for x in new_list if i <= x ]\n",
    "\n",
    "    print(new_list)\n",
    "\n",
    "def sort_both(num1, num2):\n",
    "    join_two = num1 + num2\n",
    "    print(join_two)\n",
    "    #join_two.sort()\n",
    "    sort_combined(join_two)\n",
    "\n",
    "n = int(input())\n",
    "for x in range(n):\n",
    "    limit1 = int(input())\n",
    "    numbers1 = [int(x) for x in input().split()]\n",
    "    limit2 = int(input())\n",
    "    numbers2 = [int(x) for x in input().split()]\n",
    "    sort_both(numbers1, numbers2)\n",
    "    "
   ]
  },
  {
   "cell_type": "code",
   "execution_count": null,
   "metadata": {},
   "outputs": [],
   "source": []
  },
  {
   "cell_type": "code",
   "execution_count": 18,
   "metadata": {},
   "outputs": [],
   "source": []
  },
  {
   "cell_type": "markdown",
   "metadata": {},
   "source": [
    "# 49th Problem"
   ]
  },
  {
   "cell_type": "code",
   "execution_count": null,
   "metadata": {},
   "outputs": [],
   "source": [
    "# finding prime number"
   ]
  },
  {
   "cell_type": "code",
   "execution_count": 13,
   "metadata": {},
   "outputs": [
    {
     "name": "stdout",
     "output_type": "stream",
     "text": [
      "3\n",
      "2\n",
      "2 is a prime number\n",
      "6\n",
      "6 is not a prime number\n",
      "11\n",
      "11 is a prime number\n"
     ]
    }
   ],
   "source": [
    "def prime_number(number):\n",
    "    flag = False\n",
    "    for i in range(2, number):\n",
    "        if (number%i) ==0:\n",
    "            flag=True\n",
    "            break\n",
    "            \n",
    "    return flag\n",
    "\n",
    "\n",
    "n = int(input())\n",
    "for x in range(n):\n",
    "    number = int(input())\n",
    "    \n",
    "    f = prime_number(number)\n",
    "    if f:\n",
    "        print('{} is not a prime number'.format(number))\n",
    "    else:\n",
    "        print('{} is a prime number'.format(number)) \n",
    "        "
   ]
  },
  {
   "cell_type": "markdown",
   "metadata": {},
   "source": []
  },
  {
   "cell_type": "code",
   "execution_count": null,
   "metadata": {},
   "outputs": [],
   "source": []
  },
  {
   "cell_type": "markdown",
   "metadata": {},
   "source": [
    "# 50th Problem"
   ]
  },
  {
   "cell_type": "code",
   "execution_count": null,
   "metadata": {},
   "outputs": [],
   "source": [
    "# chracter to number based on left and right number"
   ]
  },
  {
   "cell_type": "code",
   "execution_count": 43,
   "metadata": {},
   "outputs": [
    {
     "name": "stdout",
     "output_type": "stream",
     "text": [
      "5\n",
      "0L7\n",
      "007\n",
      "4R5L9\n",
      "45559\n",
      "71\n",
      "71\n",
      "8R4R0\n",
      "84400\n",
      "34R92L6\n",
      "3499226\n"
     ]
    }
   ],
   "source": [
    "def char_num(stri):\n",
    "    st = \"\"\n",
    "    \n",
    "    for ind, c in enumerate(stri):\n",
    "        if c=='L':\n",
    "            l=stri[ind-1]\n",
    "            st=st+l\n",
    "        if c=='R':\n",
    "            r=stri[ind+1]\n",
    "            st=st+r\n",
    "        if (c!='L') and (c!='R'):\n",
    "            st = st+ c\n",
    "    print(st)\n",
    "\n",
    "    \n",
    "n = int(input())\n",
    "for x in range(n):\n",
    "    stri = input()\n",
    "    char_num(stri)"
   ]
  },
  {
   "cell_type": "markdown",
   "metadata": {},
   "source": []
  },
  {
   "cell_type": "code",
   "execution_count": null,
   "metadata": {},
   "outputs": [],
   "source": []
  },
  {
   "cell_type": "markdown",
   "metadata": {},
   "source": [
    "# 51st Problem"
   ]
  },
  {
   "cell_type": "code",
   "execution_count": null,
   "metadata": {},
   "outputs": [],
   "source": [
    "# finding location of second string in first string location"
   ]
  },
  {
   "cell_type": "code",
   "execution_count": 49,
   "metadata": {},
   "outputs": [
    {
     "name": "stdout",
     "output_type": "stream",
     "text": [
      "4\n",
      "banana ana\n",
      "1\n",
      "banana ban\n",
      "0\n",
      "aquickbrownfoxjumpsoverthelazydog fox\n",
      "11\n",
      "foobar foobar\n",
      "0\n"
     ]
    }
   ],
   "source": [
    "def find_location(st1, st2):\n",
    "    string = st1.lower()\n",
    "    sub_string = st2.lower()\n",
    "    \n",
    "    for ind, cha in enumerate(string):\n",
    "        if cha == sub_string[0]:\n",
    "            temp_str = string[ind: ind+len(sub_string)]\n",
    "            if temp_str == sub_string:\n",
    "                print(ind)\n",
    "                break\n",
    "   \n",
    "\n",
    "n = int(input())\n",
    "for x in range(n):\n",
    "    str_1, str_2 = [x for x in input().split()]\n",
    "    find_location(str_1, str_2)\n",
    "    "
   ]
  },
  {
   "cell_type": "code",
   "execution_count": null,
   "metadata": {},
   "outputs": [],
   "source": []
  },
  {
   "cell_type": "code",
   "execution_count": 47,
   "metadata": {},
   "outputs": [],
   "source": [
    "    "
   ]
  },
  {
   "cell_type": "markdown",
   "metadata": {},
   "source": [
    "# 52nd Problem"
   ]
  },
  {
   "cell_type": "code",
   "execution_count": null,
   "metadata": {},
   "outputs": [],
   "source": [
    "# Finding number of appearance of sub string in a long string "
   ]
  },
  {
   "cell_type": "code",
   "execution_count": 50,
   "metadata": {},
   "outputs": [
    {
     "name": "stdout",
     "output_type": "stream",
     "text": [
      "5\n",
      "banana ana\n",
      "2\n",
      "banana anna\n",
      "0\n",
      "fox aquickbrownfoxjumpsoverthelazydog\n",
      "0\n",
      "ddddd ddd\n",
      "3\n",
      "foobar foobar\n",
      "1\n"
     ]
    }
   ],
   "source": [
    "def sub_string_count(string, sub_string):\n",
    "    string = string.lower()\n",
    "    sub_string = sub_string.lower()\n",
    "    \n",
    "    count = 0\n",
    "    for ind, ch in enumerate(string):\n",
    "        if ch==sub_string[0]:\n",
    "            tmp_string = string[ind:ind+len(sub_string)]\n",
    "            if tmp_string==sub_string:\n",
    "                count +=1\n",
    "    print(count)\n",
    "\n",
    "    \n",
    "n = int(input())\n",
    "for x in range(n):\n",
    "    string, sub_string = [x for x in input().split()]\n",
    "    \n",
    "    sub_string_count(string, sub_string)"
   ]
  },
  {
   "cell_type": "code",
   "execution_count": null,
   "metadata": {},
   "outputs": [],
   "source": []
  },
  {
   "cell_type": "code",
   "execution_count": null,
   "metadata": {},
   "outputs": [],
   "source": []
  },
  {
   "cell_type": "code",
   "execution_count": 34,
   "metadata": {},
   "outputs": [
    {
     "data": {
      "text/plain": [
       "['[3, 4, 5, 6, 7]', '5', '10']"
      ]
     },
     "execution_count": 34,
     "metadata": {},
     "output_type": "execute_result"
    }
   ],
   "source": [
    "l = [\"[3, 4, 5, 6, 7]\", '5', '10']\n",
    "l"
   ]
  },
  {
   "cell_type": "code",
   "execution_count": 35,
   "metadata": {},
   "outputs": [
    {
     "data": {
      "text/plain": [
       "'[3, 4, 5, 6, 7]'"
      ]
     },
     "execution_count": 35,
     "metadata": {},
     "output_type": "execute_result"
    }
   ],
   "source": [
    "l_0 = l[0]\n",
    "#l_0.replace()\n",
    "#l2 = l_0[1:-1]\n",
    "#l2\n",
    "l_0"
   ]
  },
  {
   "cell_type": "code",
   "execution_count": 36,
   "metadata": {},
   "outputs": [
    {
     "name": "stdout",
     "output_type": "stream",
     "text": [
      "6\n"
     ]
    }
   ],
   "source": [
    "class TreeNode:\n",
    "   def __init__(self, data, left = None, right = None):\n",
    "      self.data = data\n",
    "      self.left = left\n",
    "      self.right = right\n",
    "class Solution():\n",
    "   def lowestCommonAncestor(self, root, p, q):\n",
    "      if not root:\n",
    "         return None\n",
    "      if p == root or q==root:\n",
    "         return root\n",
    "      left = self.lowestCommonAncestor(root.left, p, q)\n",
    "      right = self.lowestCommonAncestor(root.right, p, q)\n",
    "      if left and right:\n",
    "         return root\n",
    "      return left or right\n",
    "def insert(temp,data):\n",
    "   que = []\n",
    "   que.append(temp)\n",
    "   while (len(que)):\n",
    "      temp = que[0]\n",
    "      que.pop(0)\n",
    "      if (not temp.left):\n",
    "         temp.left = TreeNode(data)\n",
    "         break\n",
    "      else:\n",
    "         que.append(temp.left)\n",
    "      if (not temp.right):\n",
    "         temp.right = TreeNode(data)\n",
    "         break\n",
    "      else:\n",
    "         que.append(temp.right)\n",
    "def make_tree(elements):\n",
    "   Tree = TreeNode(elements[0])\n",
    "   for element in elements[1:]:\n",
    "      insert(Tree, element)\n",
    "   return Tree\n",
    "def search_node(root, element):\n",
    "   if (root == None):\n",
    "      return None\n",
    "   if (root.data == element):\n",
    "      return root\n",
    "   res1 = search_node(root.left, element)\n",
    "   if res1:\n",
    "      return res1\n",
    "   res2 = search_node(root.right, element)\n",
    "   return res2\n",
    "\n",
    "root = make_tree([6,2,8,0,4,7,9,None,None,3,5])\n",
    "ob1 = Solution()\n",
    "op = ob1.lowestCommonAncestor(root, search_node(root, 2), search_node(root, 8))\n",
    "print(op.data)"
   ]
  },
  {
   "cell_type": "code",
   "execution_count": 45,
   "metadata": {},
   "outputs": [
    {
     "name": "stdout",
     "output_type": "stream",
     "text": [
      "[10, 5, 1, 7, 40, 50]\n",
      "5\n",
      "10\n"
     ]
    }
   ],
   "source": [
    "def fun(l):\n",
    "    first = l[0]\n",
    "    first_ = first.strip('][').split(',')\n",
    "    first_ = [int(x) for x in first_]\n",
    "    \n",
    "    second = int(l[1])\n",
    "    third = int(l[2])\n",
    "    \n",
    "    print(first_)\n",
    "    print(second)\n",
    "    print(third)\n",
    "    \n",
    "l = [\"[10, 5, 1, 7, 40, 50]\", \"5\", \"10\"]\n",
    "fun(l)\n",
    "    "
   ]
  },
  {
   "cell_type": "code",
   "execution_count": 70,
   "metadata": {},
   "outputs": [
    {
     "name": "stdout",
     "output_type": "stream",
     "text": [
      "yes\n",
      "yes\n"
     ]
    }
   ],
   "source": [
    "l = [1, 1, 2, 10, 3, 1, 12]\n",
    "d = 26\n",
    "\n",
    "for ind, v in enumerate(l):\n",
    "    \n",
    "    for i in l[(ind+1):]:\n",
    "        #print(i)\n",
    "        if v*i > d:\n",
    "            \n",
    "            break\n",
    "            print('yes')\n",
    "        "
   ]
  },
  {
   "cell_type": "code",
   "execution_count": null,
   "metadata": {},
   "outputs": [],
   "source": []
  }
 ],
 "metadata": {
  "kernelspec": {
   "display_name": "Python 3",
   "language": "python",
   "name": "python3"
  },
  "language_info": {
   "codemirror_mode": {
    "name": "ipython",
    "version": 3
   },
   "file_extension": ".py",
   "mimetype": "text/x-python",
   "name": "python",
   "nbconvert_exporter": "python",
   "pygments_lexer": "ipython3",
   "version": "3.8.8"
  }
 },
 "nbformat": 4,
 "nbformat_minor": 4
}
